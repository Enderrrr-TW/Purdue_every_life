{
 "cells": [
  {
   "cell_type": "code",
   "execution_count": 226,
   "metadata": {},
   "outputs": [],
   "source": [
    "# import modules\n",
    "import numpy as np\n",
    "import pandas as pd\n",
    "import os\n",
    "from scipy.linalg import lstsq # To increase efficiency, and double check the results\n",
    "import sympy as sp\n",
    "import re\n",
    "np.set_printoptions(precision=5,linewidth=100) # adjust setting for prettier printing\n",
    "import tkinter as tk\n",
    "import tkinter.filedialog\n",
    "# %gui tk\n",
    "# create a gui to let user select the working folder\n",
    "# root=tk.Tk()\n",
    "# working_folder = tkinter.filedialog.askdirectory(parent=root,title='Please select a directory')\n",
    "# root.destroy() # close the gui after user selects the input \n",
    "# print(working_folder)"
   ]
  },
  {
   "cell_type": "code",
   "execution_count": 227,
   "metadata": {},
   "outputs": [],
   "source": [
    "working_folder='E:/Ender/coursework/photogrammetry/Ass4'"
   ]
  },
  {
   "cell_type": "code",
   "execution_count": 228,
   "metadata": {},
   "outputs": [],
   "source": [
    "#extract files from the working folder\n",
    "file_list=os.listdir(working_folder)\n",
    "for i in file_list:\n",
    "    if i.endswith('.icf'):\n",
    "        icf=i # extract icf filename\n",
    "    elif i.endswith('.prj'):\n",
    "        prj=i # extract prj filename\n",
    "    elif i.endswith('.ori'):\n",
    "        ori=i # extract ori filename\n",
    "    elif i.endswith('.cam'):\n",
    "        cam=i # extract cam filename\n",
    "    elif i.endswith('.gcp'):\n",
    "        gcp=i       "
   ]
  },
  {
   "cell_type": "code",
   "execution_count": 229,
   "metadata": {},
   "outputs": [
    {
     "name": "stdout",
     "output_type": "stream",
     "text": [
      "max_iteration: 200\n",
      "maxSigma: 1e-12\n",
      "xp=0.06722940504550934, yp=-0.11779332906007767, c=8.15868854522705\n",
      "k1=-0.0002753081498667598, k2=8.035393875616137e-06, k3=-2.082014987081493e-07, p1=6.32564042462036e-05, p2=-7.169081800384447e-05\n",
      "7.5549345 -12.209332 1.2043861 1.2821908 1.2642989 3.7040656\n"
     ]
    }
   ],
   "source": [
    "os.chdir(working_folder) # change the path to working_folder\n",
    "# Read .prj file to get the max iteration times and threshold for stopping the iteration\n",
    "with open(prj,'r') as f:\n",
    "    txt=f.read() \n",
    "    txt=np.array(re.split('>>|\\ |\\n',txt)) # split the text so that I can index the value.\n",
    "max_iteration=np.int32(txt[-7]) # Max iteration times\n",
    "maxSigma=np.float32(txt[-6]) # The maximum allowable difference between unit weight variances in successive iterations. If the difference is less than this value, then the iterations will stop.\n",
    "print('max_iteration:', max_iteration)\n",
    "print('maxSigma:', maxSigma)\n",
    "\n",
    "# Read .icf to get xy (image coordinates)\n",
    "xy_img=pd.read_csv(icf,sep='\\t|\\   |\\  ',engine='python',names=['Image_ID','Point_ID','x','y','w1','w2','w3','w4'])\n",
    "## Subset the xy for each image\n",
    "xy_img_04=xy_img[xy_img['Image_ID']=='65_04_20180803.jpg'] # subset the dataframe to get xy for 65_09_20180803.jpg\n",
    "xy_img_05=xy_img[xy_img['Image_ID']=='65_05_20180803.jpg'] # repeat the process for the other images.\n",
    "xy_img_11=xy_img[xy_img['Image_ID']=='65_11_20180803.jpg']\n",
    "xy_img_12=xy_img[xy_img['Image_ID']=='65_12_20180803.jpg']\n",
    "# Read IOP based on the output from lab 1\n",
    "with open(cam,'r') as f:\n",
    "    txt=f.read() \n",
    "    txt=np.array(re.split('\\t|\\n',txt)) # split the text so that I can index the value.\n",
    "xp,yp,c=np.float32(txt[9:12]) # extract xp,yp,c\n",
    "\n",
    "print(f'xp={xp}, yp={yp}, c={c}')\n",
    "\n",
    "k1,k2,k3,p1,p2=np.float32(txt[22:27]) #extract distortion parameters\n",
    "print(f'k1={k1}, k2={k2}, k3={k3}, p1={p1}, p2={p2}')\n",
    "# Read GCP from .gcp\n",
    "gcp=pd.read_csv(gcp,engine='python',sep='\\t|\\   ',names=['Point_ID','X','Y','Z'],usecols=[0,1,2,3])\n",
    "X_gcp=np.array(gcp['X']) # extract x of gcp\n",
    "Y_gcp=np.array(gcp['Y'])\n",
    "Z_gcp=np.array(gcp['Z'])\n",
    "# Read .ori as the input EOP\n",
    "with open(ori,'r') as f:\n",
    "    for i in f:\n",
    "        text=i\n",
    "        if text.startswith('65_04_20180803'):\n",
    "            text=(re.split(',',text))\n",
    "            text=text[1::]\n",
    "            text=np.array(text).astype(np.float32)\n",
    "            omg_04,phi_04,kpp_04,Xo_04,Yo_04,Zo_04=text[0:6]\n",
    "        elif text.startswith('65_05_20180803'):\n",
    "            text=(re.split(',',text))\n",
    "            text=text[1::]\n",
    "            text=np.array(text).astype(np.float32)\n",
    "            omg_05,phi_05,kpp_05,Xo_05,Yo_05,Zo_05=text[0:6]\n",
    "        elif text.startswith('65_11_20180803'):\n",
    "            text=(re.split(',',text))\n",
    "            text=text[1::]\n",
    "            text=np.array(text).astype(np.float32)\n",
    "            omg_11,phi_11,kpp_11,Xo_11,Yo_11,Zo_11=text[0:6]\n",
    "        elif text.startswith('65_12_20180803'):\n",
    "            text=(re.split(',',text))\n",
    "            text=text[1::]\n",
    "            text=np.array(text).astype(np.float32)\n",
    "            omg_12,phi_12,kpp_12,Xo_12,Yo_12,Zo_12=text[0:6]\n",
    "print(omg_05,phi_05,kpp_05,Xo_05,Yo_05,Zo_05)"
   ]
  },
  {
   "cell_type": "code",
   "execution_count": 230,
   "metadata": {},
   "outputs": [],
   "source": [
    "# angle conversion\n",
    "def deg2rad(angle): return np.deg2rad(np.float32(angle)) # When I read the angles from the text files, they are string, so I need to convert the type first.\n",
    "def rad2deg(angle): return np.rad2deg(angle) # convert radian to degree\n",
    "def preprocessing(xy_img):\n",
    "    '''\n",
    "    This function is used to pre-process the data for LSA\n",
    "    '''\n",
    "    num_observation=len(xy_img['x']) #compute number of observation\n",
    "    xx=np.array(xy_img['x']).astype(np.float32) # define x_img\n",
    "    yy=np.array(xy_img['y']).astype(np.float32) # define y_img\n",
    "    point_ID=np.array(xy_img['Point_ID']).astype(np.int16)\n",
    "    # The following lines compute the distortion\n",
    "    x_bar=xx-xp\n",
    "    y_bar=yy-yp\n",
    "    rd=np.sqrt(x_bar**2+y_bar**2) # distance from principle point\n",
    "    dist_x=x_bar*(k1*rd**2+k2*rd**4+k3*rd**6)+p1*(rd**2+2*x_bar**2)+2*p2*x_bar*y_bar\n",
    "    dist_y=y_bar*(k1*rd**2+k2*rd**4+k3*rd**6)+p2*(rd**2+2*y_bar**2)+2*p1*x_bar*y_bar\n",
    "    # the following lines compute x_corrected and y_corrected\n",
    "    x_corrected=xx-dist_x\n",
    "    y_corrected=yy-dist_y\n",
    "    return x_corrected,y_corrected, num_observation,point_ID\n",
    "def get_rotation_matrix(omg,phi,kpp):\n",
    "    R_omg = np.array([[1,0,0],[0,np.cos(omg),-np.sin(omg)],[0,np.sin(omg),np.cos(omg)]]) # rotation matrix for omega\n",
    "    R_phi = np.array([[np.cos(phi),0,np.sin(phi)],[0,1,0],[-np.sin(phi),0,np.cos(phi)]]) # rotation matrix for phi\n",
    "    R_kpp = np.array([[np.cos(kpp),-np.sin(kpp),0],[np.sin(kpp),np.cos(kpp),0],[0,0,1]]) # rotation matrix for kappa\n",
    "    R=R_omg@R_phi@R_kpp # Final rotation matrix\n",
    "    return R"
   ]
  },
  {
   "cell_type": "code",
   "execution_count": 231,
   "metadata": {},
   "outputs": [
    {
     "name": "stdout",
     "output_type": "stream",
     "text": [
      "5\n",
      "-15.391508 -9.605362 1.4864464\n"
     ]
    }
   ],
   "source": [
    "# xy_img_04['Point_ID']=xy_img_04['Point_ID'].astype(int)\n",
    "print((list(xy_img_04['Point_ID'])[0]))\n",
    "print(omg_04,phi_04,kpp_04)"
   ]
  },
  {
   "cell_type": "markdown",
   "metadata": {},
   "source": [
    "## Linear two-light Intersection"
   ]
  },
  {
   "cell_type": "code",
   "execution_count": 232,
   "metadata": {},
   "outputs": [
    {
     "name": "stdout",
     "output_type": "stream",
     "text": [
      "0.03761303674125118 0.01366858028386314 0.02592255364138327\n",
      "0.039361025487138296 0.011775485236213959 0.028351925030496626\n"
     ]
    }
   ],
   "source": [
    "def linear_two_light_intersection(omg_l,phi_l,kpp_l,Xo_l,Yo_l,Zo_l,omg_r,phi_r,kpp_r,Xo_r,Yo_r,Zo_r,xy_img_l,xy_img_r,X_gcp,Y_gcp,Z_gcp):\n",
    "    omg_l,phi_l,kpp_l=deg2rad(omg_l),deg2rad(phi_l),deg2rad(kpp_l) # convert angles to radian\n",
    "    omg_r,phi_r,kpp_r=deg2rad(omg_r),deg2rad(phi_r),deg2rad(kpp_r) # convert angles to radian\n",
    "    R_l=get_rotation_matrix(omg_l,phi_l,kpp_l)\n",
    "    R_r=get_rotation_matrix(omg_r,phi_r,kpp_r)\n",
    "    Xo_l,Yo_l,Zo_l=np.float64(Xo_l),np.float64(Yo_l),np.float64(Zo_l) # convert type to float\n",
    "    Xo_r,Yo_r,Zo_r=np.float64(Xo_r),np.float64(Yo_r),np.float64(Zo_r) # convert type to float\n",
    "    B=np.array([Xo_r-Xo_l,Yo_r-Yo_l,Zo_r-Zo_l]) # Define B matrix\n",
    "    tie_points_ID=set(xy_img_l['Point_ID'].astype(np.int16)).intersection(set(xy_img_r['Point_ID'].astype(np.int16))) # find the tie points ID\n",
    "    tie_points_ID=np.array(list(tie_points_ID)) # Convert tie points ID from set to list in order to index it\n",
    "    xy_img_l_subset=xy_img_l[xy_img_l['Point_ID'].astype(int).isin(tie_points_ID)]\n",
    "    xy_img_r_subset=xy_img_r[xy_img_r['Point_ID'].astype(int).isin(tie_points_ID)]\n",
    "    x_corrected_l,y_corrected_l, num_observation_l,point_ID_l=preprocessing(xy_img_l_subset)\n",
    "    x_corrected_r,y_corrected_r, num_observation_r,point_ID_r=preprocessing(xy_img_r_subset)\n",
    "    XYZ_hat=[]\n",
    "    for i in range(len(tie_points_ID)):\n",
    "        n=tie_points_ID[i]\n",
    "\n",
    "        v_l=np.array([x_corrected_l[i]-xp,y_corrected_l[i]-yp,-c])\n",
    "        v_r=np.array([x_corrected_r[i]-xp,y_corrected_r[i]-yp,-c])\n",
    "        A=np.array([R_l@v_l, -R_r@v_r]).T\n",
    "        dx,sigma_new,rank,s=lstsq(A,B)\n",
    "        X_l=Xo_l+(dx[0]*R_l@v_l)[0]\n",
    "        Y_l=Yo_l+(dx[0]*R_l@v_l)[1]\n",
    "        Z_l=Zo_l+(dx[0]*R_l@v_l)[2]\n",
    "        X_r=Xo_r+(dx[1]*R_r@v_r)[0]\n",
    "        Y_r=Yo_r+(dx[1]*R_r@v_r)[1]\n",
    "        Z_r=Zo_r+(dx[1]*R_r@v_r)[2]\n",
    "        X_avg=(X_l+X_r)/2\n",
    "        Y_avg=(Y_l+Y_r)/2\n",
    "        Z_avg=(Z_l+Z_r)/2\n",
    "        XYZ_hat.append([X_avg,Y_avg,Z_avg])\n",
    "    XYZ_hat=np.array(XYZ_hat)\n",
    "    # print(X_hat.shape)\n",
    "    tie_points_ID_temp=tie_points_ID-1\n",
    "    X_gcp_subset=[X_gcp[i] for i in tie_points_ID_temp]\n",
    "    Y_gcp_subset=[Y_gcp[i] for i in tie_points_ID_temp]\n",
    "    Z_gcp_subset=[Z_gcp[i] for i in tie_points_ID_temp]\n",
    "    dx=XYZ_hat[:,0]-X_gcp_subset\n",
    "    dy=XYZ_hat[:,1]-Y_gcp_subset\n",
    "    dz=XYZ_hat[:,2]-Z_gcp_subset\n",
    "    RMSE_x=np.sqrt(np.sum(dx**2)/(len(tie_points_ID)-1))\n",
    "    RMSE_y=np.sqrt(np.sum(dy**2)/(len(tie_points_ID)-1))\n",
    "    RMSE_z=np.sqrt(np.sum(dz**2)/(len(tie_points_ID)-1))\n",
    "    RMSE_xyz=[RMSE_x,RMSE_y,RMSE_z]\n",
    "    print(RMSE_x,RMSE_y,RMSE_z)\n",
    "    return XYZ_hat, RMSE_xyz\n",
    "\n",
    "\n",
    "XYZ_hat_set1, RMSE_xyz_set1=linear_two_light_intersection(omg_04,phi_04,kpp_04,Xo_04,Yo_04,Zo_04,omg_05,phi_05,kpp_05,Xo_05,Yo_05,Zo_05,xy_img_04,xy_img_05,X_gcp,Y_gcp,Z_gcp)\n",
    "XYZ_hat_set2, RMSE_xyz_set2=linear_two_light_intersection(omg_11,phi_11,kpp_11,Xo_11,Yo_11,Zo_11,omg_12,phi_12,kpp_12,Xo_12,Yo_12,Zo_12,xy_img_11,xy_img_12,X_gcp,Y_gcp,Z_gcp)\n"
   ]
  },
  {
   "cell_type": "markdown",
   "metadata": {},
   "source": [
    "## Linear Multiple-Light-Ray Intersection"
   ]
  },
  {
   "cell_type": "code",
   "execution_count": 244,
   "metadata": {},
   "outputs": [
    {
     "data": {
      "text/plain": [
       "[-0.25732535, -16.414362, 92.72951, 1.0135577, 2.1563983, 3.0377772]"
      ]
     },
     "execution_count": 244,
     "metadata": {},
     "output_type": "execute_result"
    }
   ],
   "source": [
    "EOPs_04=[omg_04,phi_04,kpp_04,Xo_04,Yo_04,Zo_04]\n",
    "EOPs_05=[omg_05,phi_05,kpp_05,Xo_05,Yo_05,Zo_05]\n",
    "EOPs_11=[omg_11,phi_11,kpp_11,Xo_11,Yo_11,Zo_11]\n",
    "EOPs_12=[omg_12,phi_12,kpp_12,Xo_12,Yo_12,Zo_12]\n",
    "EOPs_11"
   ]
  },
  {
   "cell_type": "code",
   "execution_count": 243,
   "metadata": {},
   "outputs": [
    {
     "name": "stdout",
     "output_type": "stream",
     "text": [
      "1.4600259016653108 1.5311680295319 0.9838090411159732\n"
     ]
    },
    {
     "data": {
      "text/plain": [
       "(array([[0.86437, 1.05346, 1.39582],\n",
       "        [2.76555, 1.31494, 0.9415 ],\n",
       "        [2.00623, 1.30502, 0.72907],\n",
       "        [1.29011, 1.37581, 0.81238],\n",
       "        [0.77681, 1.48218, 1.07472],\n",
       "        [2.84032, 2.09965, 0.72075],\n",
       "        [2.0257 , 2.07939, 0.56805],\n",
       "        [1.28792, 2.06383, 0.70706],\n",
       "        [0.77005, 2.05384, 1.02055],\n",
       "        [2.69174, 2.83511, 0.95975],\n",
       "        [1.97389, 2.79656, 0.81422],\n",
       "        [1.31171, 2.69504, 0.94725],\n",
       "        [0.85085, 2.57065, 1.25232]]),\n",
       " [1.4600259016653108, 1.5311680295319, 0.9838090411159732])"
      ]
     },
     "execution_count": 243,
     "metadata": {},
     "output_type": "execute_result"
    }
   ],
   "source": [
    "def Multiple_light_ray_intersection(EOPs_A,EOPs_B,EOPs_C,EOPs_D,xy_img_A,xy_img_B,xy_img_C,xy_img_D,X_gcp,Y_gcp,Z_gcp):\n",
    "    omg_A,phi_A,kpp_A=deg2rad(EOPs_A[0]),deg2rad(EOPs_A[1]),deg2rad(EOPs_A[2]) # convert angles to radian\n",
    "    omg_B,phi_B,kpp_B=deg2rad(EOPs_B[0]),deg2rad(EOPs_B[1]),deg2rad(EOPs_B[2]) # convert angles to radian\n",
    "    omg_C,phi_C,kpp_C=deg2rad(EOPs_C[0]),deg2rad(EOPs_C[1]),deg2rad(EOPs_C[2]) # convert angles to radian\n",
    "    omg_D,phi_D,kpp_D=deg2rad(EOPs_D[0]),deg2rad(EOPs_D[1]),deg2rad(EOPs_D[2]) # convert angles to radian\n",
    "    R_A,R_B,R_C,R_D=get_rotation_matrix(omg_A,phi_A,kpp_A),get_rotation_matrix(omg_B,phi_B,kpp_B),get_rotation_matrix(omg_C,phi_C,kpp_C),get_rotation_matrix(omg_D,phi_D,kpp_D)\n",
    "    Xo_A,Yo_A,Zo_A=np.float64(EOPs_A[3]),np.float64(EOPs_A[4]),np.float64(EOPs_A[5])\n",
    "    Xo_B,Yo_B,Zo_B=np.float64(EOPs_B[3]),np.float64(EOPs_B[4]),np.float64(EOPs_B[5])\n",
    "    Xo_C,Yo_C,Zo_C=np.float64(EOPs_C[3]),np.float64(EOPs_C[4]),np.float64(EOPs_C[5])\n",
    "    Xo_D,Yo_D,Zo_D=np.float64(EOPs_D[3]),np.float64(EOPs_D[4]),np.float64(EOPs_D[5])\n",
    "\n",
    "    tie_points_ID_temp1=set(xy_img_A['Point_ID'].astype(np.int16)).intersection(set(xy_img_B['Point_ID'].astype(np.int16))) # find the tie points ID\n",
    "    tie_points_ID_temp2=set(xy_img_C['Point_ID'].astype(np.int16)).intersection(set(xy_img_D['Point_ID'].astype(np.int16))) # find the tie points ID\n",
    "    tie_points_ID=list(tie_points_ID_temp1.intersection(tie_points_ID_temp2))\n",
    "    X_gcp_subset=[X_gcp[i] for i in tie_points_ID]\n",
    "    Y_gcp_subset=[Y_gcp[i] for i in tie_points_ID]\n",
    "    Z_gcp_subset=[Z_gcp[i] for i in tie_points_ID]\n",
    "    xy_img_A_subset=xy_img_A[xy_img_A['Point_ID'].astype(int).isin(tie_points_ID)]\n",
    "    xy_img_B_subset=xy_img_B[xy_img_B['Point_ID'].astype(int).isin(tie_points_ID)]\n",
    "    xy_img_C_subset=xy_img_C[xy_img_C['Point_ID'].astype(int).isin(tie_points_ID)]\n",
    "    xy_img_D_subset=xy_img_D[xy_img_D['Point_ID'].astype(int).isin(tie_points_ID)]\n",
    "    x_corrected_A,y_corrected_A, num_observation_A,point_ID_A=preprocessing(xy_img_A_subset)\n",
    "    x_corrected_B,y_corrected_B, num_observation_B,point_ID_B=preprocessing(xy_img_B_subset)\n",
    "    x_corrected_C,y_corrected_C, num_observation_C,point_ID_C=preprocessing(xy_img_C_subset)\n",
    "    x_corrected_D,y_corrected_D, num_observation_D,point_ID_D=preprocessing(xy_img_D_subset)\n",
    "    XYZ_hat=[]\n",
    "    for i in range(len(tie_points_ID)):\n",
    "        v_A=np.array([x_corrected_A[i]-xp,y_corrected_A[i]-yp,c]).T\n",
    "        v_B=np.array([x_corrected_B[i]-xp,y_corrected_B[i]-yp,c]).T\n",
    "        v_C=np.array([x_corrected_C[i]-xp,y_corrected_C[i]-yp,c]).T\n",
    "        v_D=np.array([x_corrected_D[i]-xp,y_corrected_D[i]-yp,c]).T\n",
    "        [Nx_A,Ny_A,D_A]=R_A@v_A\n",
    "        [Nx_B,Ny_B,D_B]=R_B@v_B\n",
    "        [Nx_C,Ny_C,D_C]=R_C@v_C\n",
    "        [Nx_D,Ny_D,D_D]=R_D@v_D\n",
    "        A=np.array([[D_A,0,-Nx_A],\n",
    "                    [0,D_A,-Ny_A],\n",
    "                    [D_B,0,-Nx_B],\n",
    "                    [0,D_B,-Ny_B],\n",
    "                    [D_C,0,-Nx_C],\n",
    "                    [0,D_C,-Ny_C],\n",
    "                    [D_D,0,-Nx_D],\n",
    "                    [0,D_D,-Ny_D]])\n",
    "        y=np.array([D_A*Xo_A-Nx_A*Zo_A,\n",
    "                    D_A*Yo_A-Ny_A*Zo_A,\n",
    "                    D_B*Xo_B-Nx_B*Zo_B,\n",
    "                    D_B*Yo_B-Ny_B*Zo_B,\n",
    "                    D_C*Xo_C-Nx_C*Zo_C,\n",
    "                    D_C*Yo_C-Ny_C*Zo_C,\n",
    "                    D_D*Xo_D-Nx_D*Zo_D,\n",
    "                    D_D*Yo_D-Ny_D*Zo_D,]).T\n",
    "        X_h,sigma_new,rank,s=lstsq(A,y)\n",
    "        XYZ_hat.append(X_h)\n",
    "    XYZ_hat=np.array(XYZ_hat)\n",
    "    dx=XYZ_hat[:,0]-X_gcp_subset\n",
    "    dy=XYZ_hat[:,1]-Y_gcp_subset\n",
    "    dz=XYZ_hat[:,2]-Z_gcp_subset\n",
    "    RMSE_x=np.sqrt(np.sum(dx**2)/(len(tie_points_ID)-1))\n",
    "    RMSE_y=np.sqrt(np.sum(dy**2)/(len(tie_points_ID)-1))\n",
    "    RMSE_z=np.sqrt(np.sum(dz**2)/(len(tie_points_ID)-1))\n",
    "    RMSE_xyz=[RMSE_x,RMSE_y,RMSE_z]\n",
    "    print(RMSE_x,RMSE_y,RMSE_z)\n",
    "    return XYZ_hat, RMSE_xyz\n",
    "\n",
    "\n",
    "Multiple_light_ray_intersection(EOPs_04,EOPs_05,EOPs_11,EOPs_12,xy_img_04,xy_img_05,xy_img_11,xy_img_12,X_gcp,Y_gcp,Z_gcp)\n"
   ]
  },
  {
   "cell_type": "code",
   "execution_count": null,
   "metadata": {},
   "outputs": [],
   "source": []
  }
 ],
 "metadata": {
  "interpreter": {
   "hash": "dac48b6774d341c9858285087d9e116f9481648e6b6f684677228c02e3385373"
  },
  "kernelspec": {
   "display_name": "Python 3.8.10 64-bit ('ggdal': conda)",
   "language": "python",
   "name": "python3"
  },
  "language_info": {
   "codemirror_mode": {
    "name": "ipython",
    "version": 3
   },
   "file_extension": ".py",
   "mimetype": "text/x-python",
   "name": "python",
   "nbconvert_exporter": "python",
   "pygments_lexer": "ipython3",
   "version": "3.8.10"
  },
  "orig_nbformat": 4
 },
 "nbformat": 4,
 "nbformat_minor": 2
}
